{
 "cells": [
  {
   "cell_type": "code",
   "execution_count": 1,
   "metadata": {},
   "outputs": [],
   "source": [
    "#using svm to predict stock\n",
    "import numpy as np\n",
    "import pandas as pd\n",
    "import numpy as np # linear algebra\n",
    "import pandas as pd # data processing, CSV file I/O (e.g. pd.read_csv)\n",
    "import os\n",
    "from sklearn.model_selection import train_test_split\n",
    "from sklearn import svm,preprocessing \n",
    "from sklearn.ensemble import RandomForestRegressor\n",
    "from sklearn.metrics import classification_report\n",
    "from sklearn.neighbors import KNeighborsClassifier\n",
    "stock_prices = pd.read_csv(r'prices.csv')\n",
    "symbols = list(set(stock_prices['symbol']))"
   ]
  },
  {
   "cell_type": "code",
   "execution_count": 2,
   "metadata": {},
   "outputs": [],
   "source": [
    "msft_prices = stock_prices[stock_prices['symbol']== 'MSFT']\n",
    "msft_prices = msft_prices[['date','open','low','high','close','volume']]\n",
    "msft_prices.to_csv('msft_prices.csv',sep='\\t')\n",
    "msft_dates = [pd.Timestamp(date) for date in msft_prices['date']]\n",
    "\n"
   ]
  },
  {
   "cell_type": "code",
   "execution_count": 3,
   "metadata": {},
   "outputs": [
    {
     "data": {
      "image/png": "[encoded data removed]",
      "text/plain": [
       "<Figure size 432x288 with 1 Axes>"
      ]
     },
     "metadata": {
      "needs_background": "light"
     },
     "output_type": "display_data"
    }
   ],
   "source": [
    "\n",
    "msft_close = np.array(msft_prices['close'],dtype='float')\n",
    "import matplotlib.pyplot as plt\n",
    "get_ipython().run_line_magic('matplotlib', 'inline')\n",
    "plt.title('MSFT')\n",
    "plt.scatter(msft_dates,msft_close)\n",
    "plt.show()\n",
    "\n"
   ]
  },
  {
   "cell_type": "code",
   "execution_count": 4,
   "metadata": {},
   "outputs": [
    {
     "name": "stdout",
     "output_type": "stream",
     "text": [
      "                 open        low       high      close       volume\n",
      "date                                                               \n",
      "2010-01-04  30.620001  30.590000  31.100000  30.950001   38409100.0\n",
      "2010-01-05  30.850000  30.639999  31.100000  30.959999   49749600.0\n",
      "2010-01-06  30.879999  30.520000  31.080000  30.770000   58182400.0\n",
      "2010-01-07  30.629999  30.190001  30.700001  30.450001   50559700.0\n",
      "2010-01-08  30.280001  30.240000  30.879999  30.660000   51197400.0\n",
      "2010-01-11  30.709999  30.120001  30.760000  30.270000   68754700.0\n",
      "2010-01-12  30.150000  29.910000  30.400000  30.070000   65912100.0\n",
      "2010-01-13  30.260000  30.010000  30.520000  30.350000   51863500.0\n",
      "2010-01-14  30.309999  30.260000  31.100000  30.959999   63228100.0\n",
      "2010-01-15  31.080000  30.709999  31.240000  30.860001   79913200.0\n",
      "2010-01-19  30.750000  30.680000  31.240000  31.100000   46575700.0\n",
      "2010-01-20  30.809999  30.309999  30.940001  30.590000   54849500.0\n",
      "2010-01-21  30.610001  30.000000  30.719999  30.010000   73086700.0\n",
      "2010-01-22  30.000000  28.840000  30.200001  28.959999  102004600.0\n",
      "2010-01-25  29.240000  29.100000  29.660000  29.320000   63373000.0\n",
      "2010-01-26  29.200001  29.090000  29.850000  29.500000   66639900.0\n",
      "2010-01-27  29.350000  29.020000  29.820000  29.670000   63949500.0\n",
      "2010-01-28  29.840000  28.889999  29.870001  29.160000  117513700.0\n",
      "2010-01-29  29.900000  27.660000  29.920000  28.180000  193888500.0\n",
      "2010-02-01  28.389999  27.920000  28.480000  28.410000   85931100.0\n",
      "2010-02-02  28.370001  28.139999  28.500000  28.459999   54413700.0\n",
      "2010-02-03  28.260000  28.120001  28.790001  28.629999   61397900.0\n",
      "2010-02-04  28.379999  27.809999  28.500000  27.840000   77850000.0\n",
      "2010-02-05  28.000000  27.570000  28.280001  28.020000   80960100.0\n",
      "2010-02-08  28.010000  27.570000  28.080000  27.719999   52820600.0\n",
      "2010-02-09  27.969999  27.750000  28.340000  28.010000   59195800.0\n",
      "2010-02-10  28.030001  27.840000  28.240000  27.990000   48591300.0\n",
      "2010-02-11  27.930000  27.700001  28.400000  28.120001   65993700.0\n",
      "2010-02-12  27.809999  27.580000  28.059999  27.930000   81117200.0\n",
      "2010-02-16  28.129999  28.020000  28.370001  28.350000   51935600.0\n",
      "...               ...        ...        ...        ...          ...\n",
      "2016-11-17  60.410000  59.970001  60.950001  60.639999   32132700.0\n",
      "2016-11-18  60.779999  60.299999  61.139999  60.349998   27686300.0\n",
      "2016-11-21  60.500000  60.419998  60.970001  60.860001   19652600.0\n",
      "2016-11-22  60.980000  60.810001  61.259998  61.119999   23206700.0\n",
      "2016-11-23  61.009998  60.250000  61.099998  60.400002   21848900.0\n",
      "2016-11-25  60.299999  60.130001  60.529999  60.529999    8409600.0\n",
      "2016-11-28  60.340000  60.209999  61.020000  60.610001   20732600.0\n",
      "2016-11-29  60.650002  60.520000  61.410000  61.090000   22366700.0\n",
      "2016-11-30  60.860001  60.220001  61.180000  60.259998   34655400.0\n",
      "2016-12-01  60.110001  58.939999  60.150002  59.200001   34542100.0\n",
      "2016-12-02  59.080002  58.799999  59.470001  59.250000   25515700.0\n",
      "2016-12-05  59.700001  59.560001  60.590000  60.220001   23552700.0\n",
      "2016-12-06  60.430000  59.799999  60.459999  59.950001   19907000.0\n",
      "2016-12-07  60.009998  59.799999  61.380001  61.369999   30809000.0\n",
      "2016-12-08  61.299999  60.840000  61.580002  61.009998   21220800.0\n",
      "2016-12-09  61.180000  61.130001  61.990002  61.970001   27349400.0\n",
      "2016-12-12  61.820000  61.720001  62.299999  62.169998   20198100.0\n",
      "2016-12-13  62.500000  62.240002  63.419998  62.980000   35718900.0\n",
      "2016-12-14  63.000000  62.529999  63.450001  62.680000   30352700.0\n",
      "2016-12-15  62.700001  62.299999  63.150002  62.580002   27669900.0\n",
      "2016-12-16  62.950001  62.119999  62.950001  62.299999   42453100.0\n",
      "2016-12-19  62.560001  62.419998  63.770000  63.619999   34338200.0\n",
      "2016-12-20  63.689999  63.029999  63.799999  63.540001   26028400.0\n",
      "2016-12-21  63.430000  63.119999  63.700001  63.540001   17096300.0\n",
      "2016-12-22  63.840000  63.410000  64.099998  63.549999   22176600.0\n",
      "2016-12-23  63.450001  62.799999  63.540001  63.240002   12403800.0\n",
      "2016-12-27  63.209999  63.209999  64.070000  63.279999   11763200.0\n",
      "2016-12-28  63.400002  62.830002  63.400002  62.990002   14653300.0\n",
      "2016-12-29  62.860001  62.730000  63.200001  62.900002   10250600.0\n",
      "2016-12-30  62.959999  62.029999  62.990002  62.139999   25579900.0\n",
      "\n",
      "[1762 rows x 5 columns]\n"
     ]
    }
   ],
   "source": [
    "\n",
    "\n",
    "msft_prices = msft_prices.set_index('date')\n",
    "print(msft_prices)\n",
    "\n"
   ]
  },
  {
   "cell_type": "code",
   "execution_count": null,
   "metadata": {},
   "outputs": [],
   "source": [
    "\n"
   ]
  }
 ],
 "metadata": {
  "kernelspec": {
   "display_name": "Python 3",
   "language": "python",
   "name": "python3"
  },
  "language_info": {
   "codemirror_mode": {
    "name": "ipython",
    "version": 3
   },
   "file_extension": ".py",
   "mimetype": "text/x-python",
   "name": "python",
   "nbconvert_exporter": "python",
   "pygments_lexer": "ipython3",
   "version": "3.7.0"
  }
 },
 "nbformat": 4,
 "nbformat_minor": 2
}
